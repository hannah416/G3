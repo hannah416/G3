{
  "nbformat": 4,
  "nbformat_minor": 0,
  "metadata": {
    "colab": {
      "private_outputs": true,
      "provenance": [],
      "include_colab_link": true
    },
    "kernelspec": {
      "name": "python3",
      "display_name": "Python 3"
    },
    "language_info": {
      "name": "python"
    }
  },
  "cells": [
    {
      "cell_type": "markdown",
      "metadata": {
        "id": "view-in-github",
        "colab_type": "text"
      },
      "source": [
        "<a href=\"https://colab.research.google.com/github/hannah416/G3/blob/main/DLTESOL/0604SpeechRecognition.ipynb\" target=\"_parent\"><img src=\"https://colab.research.google.com/assets/colab-badge.svg\" alt=\"Open In Colab\"/></a>"
      ]
    },
    {
      "cell_type": "markdown",
      "source": [
        "# **Pronunciation Feedback application:**\n",
        "\n",
        "+ Score only: Using Levenshtein distance calcuation, the application will give a feedback in number (0~1) and category (Excellent, Good, Need more practice, Try again)\n",
        "\n",
        "### This app can be further developed to average user scores across trials. See example: 🌀 [link](https://mk-316-accuracyfeedback.hf.space/)"
      ],
      "metadata": {
        "id": "u4mNIqHmOFeN"
      }
    },
    {
      "cell_type": "markdown",
      "source": [
        "## [1] Install packages and libraries"
      ],
      "metadata": {
        "id": "uiHsiMQQr5Mi"
      }
    },
    {
      "cell_type": "code",
      "source": [
        "%%capture\n",
        "!pip install gradio speechrecognition python-Levenshtein soundfile"
      ],
      "metadata": {
        "id": "ANeFNZHMzt6Z"
      },
      "execution_count": null,
      "outputs": []
    },
    {
      "cell_type": "markdown",
      "source": [
        "## When deploying to Huggingface, use the following (specific versions that work for now)\n",
        "\n",
        "+ requirements.txt\n",
        "\n",
        "```\n",
        "gradio>=2.9.4\n",
        "SpeechRecognition>=3.8.1\n",
        "python-Levenshtein>=0.12.2\n",
        "SoundFile>=0.10.3.post1\n",
        "pandas>=1.3.5\n",
        "numpy>=1.21.6\n",
        "```"
      ],
      "metadata": {
        "id": "beuHQhSQ9-H6"
      }
    },
    {
      "cell_type": "markdown",
      "source": [
        "## [2] Code: Check to see any error and then deploy to Huggingface as 'app.py'"
      ],
      "metadata": {
        "id": "u8512w7UsLmV"
      }
    },
    {
      "cell_type": "code",
      "source": [
        "#@markdown Output: Accuracy Score\n",
        "\n",
        "import gradio as gr\n",
        "import speech_recognition as sr\n",
        "from Levenshtein import ratio\n",
        "import tempfile\n",
        "import numpy as np\n",
        "import soundfile as sf\n",
        "import pandas as pd\n",
        "\n",
        "# Sample dataframe with sentences ordered from easy to hard\n",
        "data = {\n",
        "    \"Sentences\": [\n",
        "        \"A stitch in time saves nine.\",\n",
        "        \"To be or not to be, that is the question.\",\n",
        "        \"Five cats were living in safe caves.\",\n",
        "        \"Hives give shelter to bees in large caves.\",\n",
        "        \"His decision to plant a rose was amazing.\",\n",
        "        \"She sells sea shells by the sea shore.\",\n",
        "        \"The colorful parrot likes rolling berries.\",\n",
        "        \"Time flies like an arrow; fruit flies like a banana.\",\n",
        "        \"Good things come to those who wait.\",\n",
        "        \"All human beings are born free and equal in dignity and rights.\"\n",
        "    ]\n",
        "}\n",
        "df = pd.DataFrame(data)\n",
        "\n",
        "def transcribe_audio(file_info):\n",
        "    r = sr.Recognizer()\n",
        "    with tempfile.NamedTemporaryFile(delete=True, suffix=\".wav\") as tmpfile:\n",
        "        sf.write(tmpfile.name, data=file_info[1], samplerate=44100, format='WAV')\n",
        "        tmpfile.seek(0)\n",
        "        with sr.AudioFile(tmpfile.name) as source:\n",
        "            audio_data = r.record(source)\n",
        "    try:\n",
        "        text = r.recognize_google(audio_data)\n",
        "        return text\n",
        "    except sr.UnknownValueError:\n",
        "        return \"Could not understand audio\"\n",
        "    except sr.RequestError as e:\n",
        "        return f\"Could not request results; {e}\"\n",
        "\n",
        "def pronunciation_correction(expected_text, file_info):\n",
        "    user_spoken_text = transcribe_audio(file_info)\n",
        "    similarity = ratio(expected_text.lower(), user_spoken_text.lower())\n",
        "    description = f\"{similarity:.2f}\"\n",
        "\n",
        "    if similarity >= 0.9:\n",
        "        feedback = \"Excellent pronunciation!\"\n",
        "    elif similarity >= 0.7:\n",
        "        feedback = \"Good pronunciation!\"\n",
        "    elif similarity >= 0.5:\n",
        "        feedback = \"Needs improvement.\"\n",
        "    else:\n",
        "        feedback = \"Poor pronunciation, try to focus more on clarity.\"\n",
        "\n",
        "    return feedback, description\n",
        "\n",
        "with gr.Blocks() as app:\n",
        "    with gr.Row():\n",
        "        sentence_dropdown = gr.Dropdown(choices=df['Sentences'].tolist(), label=\"Select a Sentence\")\n",
        "        selected_sentence_output = gr.Textbox(label=\"Selected Text\", interactive=False)\n",
        "    audio_input = gr.Audio(label=\"Upload Audio File\", type=\"numpy\")\n",
        "    check_pronunciation_button = gr.Button(\"Check Pronunciation\")\n",
        "    pronunciation_feedback = gr.Textbox(label=\"Pronunciation Feedback\")\n",
        "    pronunciation_score = gr.Number(label=\"Pronunciation Accuracy Score: 0 (No Match) ~ 1 (Perfect)\")\n",
        "\n",
        "    sentence_dropdown.change(lambda x: x, inputs=sentence_dropdown, outputs=selected_sentence_output)\n",
        "    check_pronunciation_button.click(\n",
        "        pronunciation_correction,\n",
        "        inputs=[sentence_dropdown, audio_input],\n",
        "        outputs=[pronunciation_feedback, pronunciation_score]\n",
        "    )\n",
        "\n",
        "app.launch(debug=True)\n"
      ],
      "metadata": {
        "cellView": "form",
        "id": "fZbk2pJS1bHm"
      },
      "execution_count": null,
      "outputs": []
    },
    {
      "cell_type": "markdown",
      "source": [
        "### Go to [Huggingface](https://huggingface.co) to deploy this application."
      ],
      "metadata": {
        "id": "_uamTZCdaY8v"
      }
    }
  ]
}